{
 "cells": [
  {
   "cell_type": "code",
   "execution_count": 9,
   "id": "055501e3",
   "metadata": {},
   "outputs": [
    {
     "name": "stdout",
     "output_type": "stream",
     "text": [
      "Master Bedroom, 181, Bedroom, 153.08, Bedroom, 143, Bedroom, 132, Study Room, 72.75\n"
     ]
    }
   ],
   "source": [
    "\n",
    "# Python program to read an excel file \n",
    "# import openpyxl module \n",
    "import openpyxl \n",
    "  \n",
    "# Give the location of the file \n",
    "path = \"1637216720-area.xlsx\"\n",
    "  \n",
    "# To open the workbook \n",
    "# workbook object is created \n",
    "wb_obj = openpyxl.load_workbook(path) \n",
    "  \n",
    "# Get workbook active sheet object \n",
    "# from the active attribute \n",
    "sheet_obj = wb_obj.active \n",
    "  \n",
    "# Cell objects also have a row, column, \n",
    "# and coordinate attributes that provide \n",
    "# location information for the cell. \n",
    "  \n",
    "# Note: The first row or \n",
    "# column integer is 1, not 0. \n",
    "  \n",
    "# Cell object is created by using \n",
    "# sheet object's cell() method. \n",
    "cell_obj = sheet_obj.cell(row = 2, column = 2) \n",
    "  \n",
    "# Print value of cell object \n",
    "# using the value attribute \n",
    "print(cell_obj.value) "
   ]
  },
  {
   "cell_type": "code",
   "execution_count": 2,
   "id": "44f5770b",
   "metadata": {},
   "outputs": [
    {
     "name": "stdout",
     "output_type": "stream",
     "text": [
      "Collecting openpyxl\n",
      "  Downloading openpyxl-3.0.9-py2.py3-none-any.whl (242 kB)\n",
      "Collecting et-xmlfile\n",
      "  Downloading et_xmlfile-1.1.0-py3-none-any.whl (4.7 kB)\n",
      "Installing collected packages: et-xmlfile, openpyxl\n",
      "Successfully installed et-xmlfile-1.1.0 openpyxl-3.0.9\n",
      "Note: you may need to restart the kernel to use updated packages.\n"
     ]
    },
    {
     "name": "stderr",
     "output_type": "stream",
     "text": [
      "WARNING: You are using pip version 21.0.1; however, version 21.3.1 is available.\n",
      "You should consider upgrading via the 'e:\\car dashboard light recognition\\venv\\scripts\\python.exe -m pip install --upgrade pip' command.\n"
     ]
    }
   ],
   "source": [
    "pip install openpyxl"
   ]
  },
  {
   "cell_type": "code",
   "execution_count": null,
   "id": "0d81a49e",
   "metadata": {},
   "outputs": [],
   "source": []
  }
 ],
 "metadata": {
  "kernelspec": {
   "display_name": "Python 3 (ipykernel)",
   "language": "python",
   "name": "python3"
  },
  "language_info": {
   "codemirror_mode": {
    "name": "ipython",
    "version": 3
   },
   "file_extension": ".py",
   "mimetype": "text/x-python",
   "name": "python",
   "nbconvert_exporter": "python",
   "pygments_lexer": "ipython3",
   "version": "3.8.6"
  }
 },
 "nbformat": 4,
 "nbformat_minor": 5
}
